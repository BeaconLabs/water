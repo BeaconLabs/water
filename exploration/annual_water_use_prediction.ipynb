{
 "cells": [
  {
   "cell_type": "markdown",
   "metadata": {},
   "source": [
    "#Annual Water Use Prediction using simple regression\n",
    "\n",
    "Author: Mehdi\n",
    "\n",
    "Since we only have one month of water reporting for the current water year (october 2016), I will use a simple regression to estimate the total usage for 2016-2017 water year. I'll use the lower year for simplicity (i.e. water year 2014-2015 is 2014)"
   ]
  },
  {
   "cell_type": "code",
   "execution_count": 1,
   "metadata": {
    "collapsed": false
   },
   "outputs": [
    {
     "name": "stdout",
     "output_type": "stream",
     "text": [
      "Populating the interactive namespace from numpy and matplotlib\n"
     ]
    },
    {
     "name": "stderr",
     "output_type": "stream",
     "text": [
      "/Users/bayesimpact/.virtualenvs/water/lib/python2.7/site-packages/matplotlib/font_manager.py:273: UserWarning: Matplotlib is building the font cache using fc-list. This may take a moment.\n",
      "  warnings.warn('Matplotlib is building the font cache using fc-list. This may take a moment.')\n"
     ]
    }
   ],
   "source": [
    "%pylab inline\n",
    "import pandas as pd\n",
    "from load_data import load_uw_supply_data\n",
    "pd.options.display.max_columns=None"
   ]
  },
  {
   "cell_type": "markdown",
   "metadata": {},
   "source": [
    "The helper function cleans up the data set and rename the columns."
   ]
  },
  {
   "cell_type": "code",
   "execution_count": 70,
   "metadata": {
    "collapsed": false
   },
   "outputs": [],
   "source": [
    "df = load_uw_supply_data(\"../data/uw_supplier_data110116.xlsx\")"
   ]
  },
  {
   "cell_type": "markdown",
   "metadata": {},
   "source": [
    "I'll add month and year columns for easier reference."
   ]
  },
  {
   "cell_type": "code",
   "execution_count": 102,
   "metadata": {
    "collapsed": false
   },
   "outputs": [],
   "source": [
    "df[\"month\"] = df[\"reporting_month\"].apply(lambda x: x.month)\n",
    "df[\"year\"] = df[\"reporting_month\"].apply(lambda x: x.year)"
   ]
  },
  {
   "cell_type": "markdown",
   "metadata": {},
   "source": [
    "I need total water use per capita for the month of october for all reported year. So far, I only have 2014 and 2015 in the data set. I'll produce a random number for october 2016 and use that number for my calculation. Once I receive the new dataset, I can replace that column."
   ]
  },
  {
   "cell_type": "code",
   "execution_count": 149,
   "metadata": {
    "collapsed": false
   },
   "outputs": [],
   "source": [
    "df_oct_2015 = df.groupby(\"supplier_name\").apply(lambda f: f[f[\"reporting_month\"]==pd.Timestamp('2015-10-15')])[\"r_gpc\"].reset_index().rename(columns={\"r_gpc\": \"oct_2015\"})\n",
    "df_oct_2014 = df.groupby(\"supplier_name\").apply(lambda f: f[f[\"reporting_month\"]==pd.Timestamp('2014-10-15')])[\"r_gpc\"].reset_index().rename(columns={\"r_gpc\": \"oct_2014\"})\n",
    "new_df = pd.merge(df_oct_2015, df_oct_2014, left_on=\"supplier_name\", right_on=\"supplier_name\")[[\"supplier_name\", \"oct_2014\", \"oct_2015\"]].set_index(\"supplier_name\")\n",
    "new_df[\"oct_2016\"] = new_df.oct_2015.apply(lambda x: np.random.normal(x, 10))"
   ]
  },
  {
   "cell_type": "markdown",
   "metadata": {},
   "source": [
    "I'll also need the total water use in 2014 and 2015 water year:"
   ]
  },
  {
   "cell_type": "code",
   "execution_count": 150,
   "metadata": {
    "collapsed": false
   },
   "outputs": [
    {
     "name": "stderr",
     "output_type": "stream",
     "text": [
      "/Library/Python/2.7/site-packages/IPython/kernel/__main__.py:1: UserWarning: Boolean Series key will be reindexed to match DataFrame index.\n",
      "  if __name__ == '__main__':\n",
      "/Library/Python/2.7/site-packages/IPython/kernel/__main__.py:2: UserWarning: Boolean Series key will be reindexed to match DataFrame index.\n",
      "  from IPython.kernel.zmq import kernelapp as app\n"
     ]
    }
   ],
   "source": [
    "new_df[\"total_2014\"] = df.groupby(\"supplier_name\").apply(lambda f: f[f[\"reporting_month\"] > pd.Timestamp('2014-10-14')][f[\"reporting_month\"] < pd.Timestamp('2015-10-15')].r_gpc.sum())\n",
    "new_df[\"total_2015\"] = df.groupby(\"supplier_name\").apply(lambda f: f[f[\"reporting_month\"] > pd.Timestamp('2015-10-14')][f[\"reporting_month\"] < pd.Timestamp('2016-10-15')].r_gpc.sum())"
   ]
  },
  {
   "cell_type": "markdown",
   "metadata": {},
   "source": [
    "From these, I can predict 2015 and 2016 water year total use:"
   ]
  },
  {
   "cell_type": "code",
   "execution_count": 151,
   "metadata": {
    "collapsed": false
   },
   "outputs": [],
   "source": [
    "new_df[\"predict_2016\"] = new_df.total_2015 * new_df.oct_2016 / new_df.oct_2015\n",
    "new_df[\"predict_2015\"] = new_df.total_2014 * new_df.oct_2015 / new_df.oct_2014\n",
    "new_df[\"predict_2015_error\"] = (new_df.predict_2015 - new_df.total_2015) / new_df.total_2015 * 100"
   ]
  },
  {
   "cell_type": "code",
   "execution_count": 146,
   "metadata": {
    "collapsed": false
   },
   "outputs": [
    {
     "data": {
      "text/html": [
       "<div>\n",
       "<table border=\"1\" class=\"dataframe\">\n",
       "  <thead>\n",
       "    <tr style=\"text-align: right;\">\n",
       "      <th></th>\n",
       "      <th>oct_2014</th>\n",
       "      <th>oct_2015</th>\n",
       "      <th>total_2014</th>\n",
       "      <th>total_2015</th>\n",
       "      <th>oct_2016</th>\n",
       "      <th>predict_2016</th>\n",
       "      <th>predict_2015</th>\n",
       "      <th>predict_2015_error</th>\n",
       "    </tr>\n",
       "    <tr>\n",
       "      <th>supplier_name</th>\n",
       "      <th></th>\n",
       "      <th></th>\n",
       "      <th></th>\n",
       "      <th></th>\n",
       "      <th></th>\n",
       "      <th></th>\n",
       "      <th></th>\n",
       "      <th></th>\n",
       "    </tr>\n",
       "  </thead>\n",
       "  <tbody>\n",
       "    <tr>\n",
       "      <th>Adelanto City of</th>\n",
       "      <td>68.00</td>\n",
       "      <td>87.90</td>\n",
       "      <td>994.34</td>\n",
       "      <td>824.56</td>\n",
       "      <td>80.139090</td>\n",
       "      <td>751.757542</td>\n",
       "      <td>1285.330676</td>\n",
       "      <td>55.880794</td>\n",
       "    </tr>\n",
       "    <tr>\n",
       "      <th>Alameda County Water District</th>\n",
       "      <td>74.90</td>\n",
       "      <td>68.40</td>\n",
       "      <td>808.60</td>\n",
       "      <td>809.10</td>\n",
       "      <td>64.224292</td>\n",
       "      <td>759.705764</td>\n",
       "      <td>738.427770</td>\n",
       "      <td>-8.734672</td>\n",
       "    </tr>\n",
       "    <tr>\n",
       "      <th>Alco Water Service</th>\n",
       "      <td>115.31</td>\n",
       "      <td>94.13</td>\n",
       "      <td>1231.10</td>\n",
       "      <td>1095.20</td>\n",
       "      <td>94.439604</td>\n",
       "      <td>1098.802239</td>\n",
       "      <td>1004.973055</td>\n",
       "      <td>-8.238399</td>\n",
       "    </tr>\n",
       "    <tr>\n",
       "      <th>Alhambra  City of</th>\n",
       "      <td>104.90</td>\n",
       "      <td>93.10</td>\n",
       "      <td>1131.09</td>\n",
       "      <td>1050.52</td>\n",
       "      <td>102.499191</td>\n",
       "      <td>1156.578415</td>\n",
       "      <td>1003.855853</td>\n",
       "      <td>-4.442005</td>\n",
       "    </tr>\n",
       "    <tr>\n",
       "      <th>Amador Water Agency</th>\n",
       "      <td>77.00</td>\n",
       "      <td>62.00</td>\n",
       "      <td>748.96</td>\n",
       "      <td>777.08</td>\n",
       "      <td>69.680044</td>\n",
       "      <td>873.338209</td>\n",
       "      <td>603.058701</td>\n",
       "      <td>-22.394258</td>\n",
       "    </tr>\n",
       "  </tbody>\n",
       "</table>\n",
       "</div>"
      ],
      "text/plain": [
       "                               oct_2014  oct_2015  total_2014  total_2015  \\\n",
       "supplier_name                                                               \n",
       "Adelanto City of                  68.00     87.90      994.34      824.56   \n",
       "Alameda County Water District     74.90     68.40      808.60      809.10   \n",
       "Alco Water Service               115.31     94.13     1231.10     1095.20   \n",
       "Alhambra  City of                104.90     93.10     1131.09     1050.52   \n",
       "Amador Water Agency               77.00     62.00      748.96      777.08   \n",
       "\n",
       "                                 oct_2016  predict_2016  predict_2015  \\\n",
       "supplier_name                                                           \n",
       "Adelanto City of                80.139090    751.757542   1285.330676   \n",
       "Alameda County Water District   64.224292    759.705764    738.427770   \n",
       "Alco Water Service              94.439604   1098.802239   1004.973055   \n",
       "Alhambra  City of              102.499191   1156.578415   1003.855853   \n",
       "Amador Water Agency             69.680044    873.338209    603.058701   \n",
       "\n",
       "                               predict_2015_error  \n",
       "supplier_name                                      \n",
       "Adelanto City of                        55.880794  \n",
       "Alameda County Water District           -8.734672  \n",
       "Alco Water Service                      -8.238399  \n",
       "Alhambra  City of                       -4.442005  \n",
       "Amador Water Agency                    -22.394258  "
      ]
     },
     "execution_count": 146,
     "metadata": {},
     "output_type": "execute_result"
    }
   ],
   "source": [
    "new_df.head()"
   ]
  },
  {
   "cell_type": "markdown",
   "metadata": {},
   "source": [
    "Let's look at our error in predicting the 2015 water use:"
   ]
  },
  {
   "cell_type": "code",
   "execution_count": 154,
   "metadata": {
    "collapsed": false
   },
   "outputs": [
    {
     "data": {
      "image/png": "[encoded data removed]",
      "text/plain": [
       "<matplotlib.figure.Figure at 0x10d217250>"
      ]
     },
     "metadata": {},
     "output_type": "display_data"
    }
   ],
   "source": [
    "plt.figure()\n",
    "ax = new_df.predict_2015_error.hist(bins=110)\n",
    "ax.set_xlabel(\"% error\")\n",
    "_ = ax.set_ylabel(\"# of suppliers\")"
   ]
  },
  {
   "cell_type": "markdown",
   "metadata": {},
   "source": [
    "Looks like for majority of suppliers, our estimations for 2015 water year, are ~10% lower than the actual use."
   ]
  },
  {
   "cell_type": "code",
   "execution_count": null,
   "metadata": {
    "collapsed": true
   },
   "outputs": [],
   "source": []
  }
 ],
 "metadata": {
  "kernelspec": {
   "display_name": "Python 2",
   "language": "python",
   "name": "python2"
  },
  "language_info": {
   "codemirror_mode": {
    "name": "ipython",
    "version": 2
   },
   "file_extension": ".py",
   "mimetype": "text/x-python",
   "name": "python",
   "nbconvert_exporter": "python",
   "pygments_lexer": "ipython2",
   "version": "2.7.10"
  }
 },
 "nbformat": 4,
 "nbformat_minor": 0
}
